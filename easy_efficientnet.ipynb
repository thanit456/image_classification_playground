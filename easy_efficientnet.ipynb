{
  "nbformat": 4,
  "nbformat_minor": 0,
  "metadata": {
    "colab": {
      "name": "easy_efficientnet.ipynb",
      "provenance": [],
      "collapsed_sections": [],
      "authorship_tag": "ABX9TyNnM3V6TKNyZ9H+zjhriXXS",
      "include_colab_link": true
    },
    "kernelspec": {
      "name": "python3",
      "display_name": "Python 3"
    }
  },
  "cells": [
    {
      "cell_type": "markdown",
      "metadata": {
        "id": "view-in-github",
        "colab_type": "text"
      },
      "source": [
        "<a href=\"https://colab.research.google.com/github/thanit456/image_classification_playground/blob/master/easy_efficientnet.ipynb\" target=\"_parent\"><img src=\"https://colab.research.google.com/assets/colab-badge.svg\" alt=\"Open In Colab\"/></a>"
      ]
    },
    {
      "cell_type": "markdown",
      "metadata": {
        "id": "Qql-mOgb4f4r",
        "colab_type": "text"
      },
      "source": [
        "# Swish activation"
      ]
    },
    {
      "cell_type": "code",
      "metadata": {
        "id": "cCjlxNXM4GS9",
        "colab_type": "code",
        "colab": {}
      },
      "source": [
        "from tensorflow.keras import backend as K\n",
        "\n",
        "def swish_activation(x):\n",
        "  return x*K.sigmoid(x)"
      ],
      "execution_count": 0,
      "outputs": []
    },
    {
      "cell_type": "markdown",
      "metadata": {
        "id": "bvkrCVrK4k5o",
        "colab_type": "text"
      },
      "source": [
        "# Inverted Residual Block"
      ]
    },
    {
      "cell_type": "code",
      "metadata": {
        "id": "Z0jR3V8q4kYx",
        "colab_type": "code",
        "colab": {}
      },
      "source": [
        "from tensorflow.keras.layers import Conv2D, DepthwiseConv2D, Add, GlobalAveragePooling2D, Reshape\n",
        "\n",
        "def inverted_residual_block(x, expand=64, squeeze=16):\n",
        "  block = Conv2D(expand, (1, 1), activation='relu')(x)\n",
        "  block = DepthwiseConv2D((3, 3), activation='relu')(block)\n",
        "  block = Conv2D(squeeze, (1, 1), activation='relu')(block)\n",
        "  return Add()[block, x]\n",
        "\n",
        "def se_block(x, filters, squeeze_ratio=0.25):\n",
        "  x_ = GlobalAveragePooling2D()(x_)\n",
        "  x_ = Reshape((1, 1, filters))(x_)\n",
        "  squeeze_filters = max(1, int(filters * squeeze_ratio))\n",
        "  x_ = Conv2D(squeeze_filters, activation='relu')(x_)\n",
        "  x_ = Conv2D(filters, activation='sigmoid')(x_)\n",
        "  return multiply()([x, x_])"
      ],
      "execution_count": 0,
      "outputs": []
    },
    {
      "cell_type": "code",
      "metadata": {
        "id": "8Qwhike64c4I",
        "colab_type": "code",
        "colab": {
          "base_uri": "https://localhost:8080/",
          "height": 130
        },
        "outputId": "6f4d6902-1b3d-45ae-928e-6fd1e3838e82"
      },
      "source": [
        "argument_block = [\n",
        "                  BlockArgs(kernel_size=3, num_repeat=1, input_filters=32, \n",
        "                            output_filters=16, expand_ratio=1, id_skip=True, strides=[1, 1], se_ratio=0.25),\n",
        "                  BlockArgs(kernel_size=3, num_repeat=2, input_filters=16, \n",
        "                            output_filters=24, expand_ratio=6, id_skip=True, strides=[2, 2], se_ratio=0.25),\n",
        "                  BlockArgs(kernel_size=5, num_repeat=2, input_filters=24, \n",
        "                            output_filters=40, expand_ratio=6, id_skip=True, strides=[2, 2], se_ratio=0.25),\n",
        "                  BlockArgs(kernel_size=3, num_repeat=3, input_filters=40, \n",
        "                            output_filters=80, expand_ratio=6, id_skip=True, strides=[2, 2], se_ratio=0.25),\n",
        "                  BlockArgs(kernel_size=5, num_repeat=3, input_filters=80, \n",
        "                            output_filters=112, expand_ratio=6, id_skip=True, strides=[1, 1], se_ratio=0.25),\n",
        "                  BlockArgs(kernel_size=5, num_repeat=4, input_filters=112, \n",
        "                            output_filters=192, expand_ratio=6, id_skip=True, strides=[2, 2], se_ratio=0.25)\n",
        "                  BlockArgs(kernel_size=3, num_repeat=1, input_filters=192, \n",
        "                            output_filters=320, expand_ratio=6, id_skip=True, strides=[1, 1], se_ratio=0.25)\n",
        "]"
      ],
      "execution_count": 3,
      "outputs": [
        {
          "output_type": "error",
          "ename": "SyntaxError",
          "evalue": "ignored",
          "traceback": [
            "\u001b[0;36m  File \u001b[0;32m\"<ipython-input-3-deb94a94ccdf>\"\u001b[0;36m, line \u001b[0;32m14\u001b[0m\n\u001b[0;31m    BlockArgs(kernel_size=3, num_repeat=1, input_filters=192,\u001b[0m\n\u001b[0m            ^\u001b[0m\n\u001b[0;31mSyntaxError\u001b[0m\u001b[0;31m:\u001b[0m invalid syntax\n"
          ]
        }
      ]
    },
    {
      "cell_type": "code",
      "metadata": {
        "id": "hFoyCmUN6xI8",
        "colab_type": "code",
        "colab": {}
      },
      "source": [
        "def mbConv_block(input_data, block_args):\n",
        "  kernel_size = block_arg.kernel_size\n",
        "  num_repeat = block_arg.num_repeat\n",
        "  input_filters = block_arg.input_filters\n",
        "  out_filters = out_filters.kernel_size\n",
        "  expand_ratio = block_arg.expand_ratio\n",
        "  id_skip = block_arg.id_skip\n",
        "  strides = block_arg.strides\n",
        "  se_ratio = block_arg.se_ratio\n",
        "\n",
        "  # Expansion phase\n",
        "  expanded_filters = input_filters * expand_ratio\n",
        "  x = Conv2D(expanded_filters, 1, padding='same', use_bias=False)(input_data)\n",
        "  x = BatchNormalization()(x)\n",
        "  x = Activation(swish_activation)(x)\n",
        "  \n",
        "  # Depthwise convolution phas\n",
        "  x = DepthwiseConv2D(kernel_size, strides, padding='same', use_bias=False)(x)\n",
        "  x = BatchNormalization()(x)\n",
        "  x = Activation(swish_activation)(x)\n",
        "  \n",
        "  # Squeeze and excitation phase\n",
        "  se = GlobalAveragePooling2D()(x)\n",
        "  se = Reshape((1, 1, expanded_filters))(se)\n",
        "  squeezed_filters = max(1, int(input_filters * se_ratio))\n",
        "  se = Conv2D(squeezed_filters, 1, activation=swish_activation, padding='same')(se)\n",
        "  x = multiply([x, se])\n",
        "  \n",
        "  # Output phase\n",
        "  x = Conv2D(out_filters, 1, padding='same', use_bias=False)\n",
        "  x = BatchNormalization()(x)\n",
        "  return x\n"
      ],
      "execution_count": 0,
      "outputs": []
    }
  ]
}